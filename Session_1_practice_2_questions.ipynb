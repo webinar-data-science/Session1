{
  "nbformat": 4,
  "nbformat_minor": 0,
  "metadata": {
    "colab": {
      "provenance": []
    },
    "kernelspec": {
      "name": "python3",
      "display_name": "Python 3"
    },
    "language_info": {
      "name": "python"
    }
  },
  "cells": [
    {
      "cell_type": "markdown",
      "source": [
        "# Practice 2\n",
        "In this section you will see how to make data visulaization, detect outliers using interquartile range method and discover relationships between variables. For data visualization, the most common libraries are:\n",
        "\n",
        "\n",
        "*   **matplotlib.pyplot**, you can read the general guide here: [link text](https://matplotlib.org/stable/tutorials/introductory/quick_start.html).\n",
        "*   **seaborn**, you can read the general guide here: [link text](https://seaborn.pydata.org/tutorial.html).\n",
        "\n"
      ],
      "metadata": {
        "id": "z3q_W52JzG-s"
      }
    },
    {
      "cell_type": "markdown",
      "source": [
        "\n",
        "\n",
        "1.   Import **numpy**, **pandas**, **seaborn** and **matplotlib.pyplot** libraries.\n",
        "\n",
        "\n"
      ],
      "metadata": {
        "id": "QK90G42lSQcJ"
      }
    },
    {
      "cell_type": "code",
      "source": [],
      "metadata": {
        "id": "_fioA8zArXvK"
      },
      "execution_count": null,
      "outputs": []
    },
    {
      "cell_type": "markdown",
      "source": [
        "\n",
        "\n",
        "2.   Import dataset \"Iris.csv\".\n",
        "\n"
      ],
      "metadata": {
        "id": "dvTmYoWBSRH3"
      }
    },
    {
      "cell_type": "code",
      "source": [],
      "metadata": {
        "id": "U18Ye9nfrYL_"
      },
      "execution_count": null,
      "outputs": []
    },
    {
      "cell_type": "markdown",
      "source": [
        "\n",
        "\n",
        "3.   Show the number of rows and columns.\n",
        "\n"
      ],
      "metadata": {
        "id": "qNP8LLjxSRjL"
      }
    },
    {
      "cell_type": "code",
      "source": [],
      "metadata": {
        "id": "pBy3plGwrYqb"
      },
      "execution_count": null,
      "outputs": []
    },
    {
      "cell_type": "markdown",
      "source": [
        "\n",
        "\n",
        "4.   Show the first 5 rows of the dataset.\n",
        "\n"
      ],
      "metadata": {
        "id": "DVL5yK_NSR9d"
      }
    },
    {
      "cell_type": "code",
      "source": [],
      "metadata": {
        "id": "U0J3Gf2orZYC"
      },
      "execution_count": null,
      "outputs": []
    },
    {
      "cell_type": "markdown",
      "source": [
        "\n",
        "\n",
        "5.   Show the name of all the columns.\n",
        "\n"
      ],
      "metadata": {
        "id": "7y5RcB-oSSd-"
      }
    },
    {
      "cell_type": "code",
      "source": [],
      "metadata": {
        "id": "LVoKivisrZ4E"
      },
      "execution_count": null,
      "outputs": []
    },
    {
      "cell_type": "markdown",
      "source": [
        "\n",
        "\n",
        "6.   Compute summary statistics using the method **describe()**.\n",
        "\n"
      ],
      "metadata": {
        "id": "qRP9s0goSS-g"
      }
    },
    {
      "cell_type": "code",
      "source": [],
      "metadata": {
        "id": "9HhiwWruraVi"
      },
      "execution_count": null,
      "outputs": []
    },
    {
      "cell_type": "markdown",
      "source": [
        "\n",
        "\n",
        "7.   Compute summary statistics for the three classes, using the **groupby** and **describe()** methods together.\n",
        "\n"
      ],
      "metadata": {
        "id": "DZ7u8aE_STQu"
      }
    },
    {
      "cell_type": "code",
      "source": [],
      "metadata": {
        "id": "0Cvrh7j1ra6g"
      },
      "execution_count": null,
      "outputs": []
    },
    {
      "cell_type": "markdown",
      "source": [
        "\n",
        "\n",
        "8.   Check the data types of columns.\n",
        "\n"
      ],
      "metadata": {
        "id": "Kz64mK6jSTir"
      }
    },
    {
      "cell_type": "markdown",
      "source": [
        "\n",
        "\n",
        "9.   Check if there are some missing values using **isna()** and **sum()** together.\n",
        "\n"
      ],
      "metadata": {
        "id": "f6EpWSagSUCs"
      }
    },
    {
      "cell_type": "code",
      "source": [],
      "metadata": {
        "id": "5jXy-3EYrb8R"
      },
      "execution_count": null,
      "outputs": []
    },
    {
      "cell_type": "markdown",
      "source": [
        "\n",
        "\n",
        "10.   Check how many unique values for the column *Species*.\n",
        "\n"
      ],
      "metadata": {
        "id": "ZzaAtLqBSUXg"
      }
    },
    {
      "cell_type": "code",
      "source": [],
      "metadata": {
        "id": "J50nhddarcil"
      },
      "execution_count": null,
      "outputs": []
    },
    {
      "cell_type": "markdown",
      "source": [
        "\n",
        "\n",
        "11.   Convert to a string the values inside the *Id* column.\n"
      ],
      "metadata": {
        "id": "L_158d9xSUqg"
      }
    },
    {
      "cell_type": "code",
      "source": [],
      "metadata": {
        "id": "QbZRhxKlrdD0"
      },
      "execution_count": null,
      "outputs": []
    },
    {
      "cell_type": "markdown",
      "source": [
        "\n",
        "\n",
        "12.   Show the count plot of the categorical variable *Species* using the function **countplot** from the library **seaborn**, for which you can find a guide here: [link text](https://seaborn.pydata.org/generated/seaborn.countplot.html) . Adjust the dimension of the plot as you prefere.\n",
        "\n"
      ],
      "metadata": {
        "id": "k0r7HPwLUFmo"
      }
    },
    {
      "cell_type": "code",
      "source": [],
      "metadata": {
        "id": "BzaVkdlFrdd-"
      },
      "execution_count": null,
      "outputs": []
    },
    {
      "cell_type": "markdown",
      "source": [
        "\n",
        "\n",
        "13.   Plot the histogram of the numerical variable *SepalLengthCm* using the function **histplot** from **seaborn**. Then try to repeat the same plot but using a number of bins equal to 30. After that, plot also the boxplot using the function **boxplot** from **seaborn**. Adjust the dimension of the plot as you prefere. The guide for these functions are:\n",
        "\n",
        "\n",
        "*   **histplot**: [link text](https://seaborn.pydata.org/generated/seaborn.histplot.html).\n",
        "*   **boxplot**: [link text](https://seaborn.pydata.org/generated/seaborn.boxplot.html).\n",
        "\n",
        "\n",
        "\n"
      ],
      "metadata": {
        "id": "zJoNk9xcUHdz"
      }
    },
    {
      "cell_type": "code",
      "source": [],
      "metadata": {
        "id": "oV7P2TAsretY"
      },
      "execution_count": null,
      "outputs": []
    },
    {
      "cell_type": "markdown",
      "source": [
        "\n",
        "\n",
        "14.   Plot the histogram of the numerical variable *SepalWidthCm* using the function **histplot** from **seaborn**. Then try to repeat the same plot but using a number of bins equal to 30. After that, plot also the boxplot using the function **boxplot** from **seaborn**. Adjust the dimension of the plot as you prefere.\n"
      ],
      "metadata": {
        "id": "ukFgG56pUGyG"
      }
    },
    {
      "cell_type": "code",
      "source": [],
      "metadata": {
        "id": "tjPy0Wg-rfHr"
      },
      "execution_count": null,
      "outputs": []
    },
    {
      "cell_type": "markdown",
      "source": [
        "\n",
        "\n",
        "15. Plot the histogram of the numerical variable *PetalLengthCm* using the function **histplot** from **seaborn**. Then try to repeat the same plot but using a number of bins equal to 20. After that, plot also the boxplot using the function **boxplot** from **seaborn**. Adjust the dimension of the plot as you prefere.\n",
        "\n"
      ],
      "metadata": {
        "id": "efNiVgm2V5-R"
      }
    },
    {
      "cell_type": "code",
      "source": [],
      "metadata": {
        "id": "H1XoWQmYrfoM"
      },
      "execution_count": null,
      "outputs": []
    },
    {
      "cell_type": "markdown",
      "source": [
        "\n",
        "\n",
        "16.   Plot the histogram of the numerical variable *PetalWidthCm* using the function **histplot** from **seaborn**. Then try to repeat the same plot but using a number of bins equal to 30. After that, plot also the boxplot using the function **boxplot** from **seaborn**. Adjust the dimension of the plot as you prefere.\n"
      ],
      "metadata": {
        "id": "7ym0hVlmUGB9"
      }
    },
    {
      "cell_type": "code",
      "source": [],
      "metadata": {
        "id": "_g7snr7yrgBF"
      },
      "execution_count": null,
      "outputs": []
    },
    {
      "cell_type": "markdown",
      "source": [
        "\n",
        "\n",
        "17.   Plot the histograms of numerical variables by *Species* using the function **displot** from **seaborn**, where you can find the guide here: [link text](https://seaborn.pydata.org/generated/seaborn.displot.html).\n",
        "\n"
      ],
      "metadata": {
        "id": "ZraXyUoeXsIV"
      }
    },
    {
      "cell_type": "code",
      "source": [],
      "metadata": {
        "id": "HAeFbbOdrgj7"
      },
      "execution_count": null,
      "outputs": []
    },
    {
      "cell_type": "markdown",
      "source": [
        "\n",
        "\n",
        "18.   Use the function **percentile** from **numpy** in order to get the first and third quartile for the column *SepalWidthCm*. You can see the documentation here [link text](https://numpy.org/doc/stable/reference/generated/numpy.percentile.html).\n",
        "\n"
      ],
      "metadata": {
        "id": "ZFwcg-WxYTT1"
      }
    },
    {
      "cell_type": "code",
      "source": [],
      "metadata": {
        "id": "erKGwtLirg7c"
      },
      "execution_count": null,
      "outputs": []
    },
    {
      "cell_type": "markdown",
      "source": [
        "\n",
        "\n",
        "19.   Use the first and third quartile computed before in order to get the IQR, using the formula: third_quartile - first_quartile.\n",
        "\n"
      ],
      "metadata": {
        "id": "5g8kPPDBYTOa"
      }
    },
    {
      "cell_type": "code",
      "source": [],
      "metadata": {
        "id": "FJHiIJocrhVW"
      },
      "execution_count": null,
      "outputs": []
    },
    {
      "cell_type": "markdown",
      "source": [
        "\n",
        "\n",
        "20.   Compute and show the two thresholds (upper and lower) which determines if an observation is an outlier or not, using the formula:\n",
        "\n",
        "*   upper threshold = third_quartile + (1.5 x IQR)\n",
        "*   lower threshold = first_quartile - (1.5 x IQR)\n",
        "\n",
        "\n",
        "\n"
      ],
      "metadata": {
        "id": "Qol8SpvdYTCq"
      }
    },
    {
      "cell_type": "code",
      "source": [],
      "metadata": {
        "id": "X64VEpiNrh0O"
      },
      "execution_count": null,
      "outputs": []
    },
    {
      "cell_type": "markdown",
      "source": [
        "\n",
        "\n",
        "21.   Show the observations which are outliers according to the upper and lower thresholds computed previously. Use **loc** from **pandas** and set the conditions: data.loc[cond1 | cond2]\n",
        "\n"
      ],
      "metadata": {
        "id": "L7XBaPFVZPz_"
      }
    },
    {
      "cell_type": "code",
      "source": [],
      "metadata": {
        "id": "GcXpDO_JriQX"
      },
      "execution_count": null,
      "outputs": []
    },
    {
      "cell_type": "markdown",
      "source": [
        "\n",
        "\n",
        "22.   Plot the scatterplot of the variable *SepalLengthCm* and *PetalLengthCm* to discover the kind of relationship between these two variables, using the function **scatterplot** from **seaborn**. Then try to repeat the same plot but using different colors for the three classes of *Species*.\n",
        "\n"
      ],
      "metadata": {
        "id": "8c4R8bVxZPri"
      }
    },
    {
      "cell_type": "code",
      "source": [],
      "metadata": {
        "id": "Q_uy88-9ri0B"
      },
      "execution_count": null,
      "outputs": []
    },
    {
      "cell_type": "markdown",
      "source": [
        "\n",
        "\n",
        "23.   Show the correlation matrix for the numerical variables. \n",
        "\n",
        "*   Create a triangular matrix with the function **triu** from **numpy** for which you can find the guide here: [link text](https://numpy.org/doc/stable/reference/generated/numpy.triu.html).\n",
        "*   Create the heatmap using the function **heatmap** from **seaborn** for which you can find the guide here: [link text](https://seaborn.pydata.org/generated/seaborn.heatmap.html).\n",
        "\n"
      ],
      "metadata": {
        "id": "dvJrnFm0ZPXm"
      }
    },
    {
      "cell_type": "markdown",
      "source": [
        "*   Create a triangular matrix with the function **triu** from **numpy**."
      ],
      "metadata": {
        "id": "EbAeEIzZ3Ibw"
      }
    },
    {
      "cell_type": "code",
      "source": [],
      "metadata": {
        "id": "kd5fdL_UrlsL"
      },
      "execution_count": null,
      "outputs": []
    },
    {
      "cell_type": "markdown",
      "source": [
        "*   Create the heatmap using the function **heatmap** from **seaborn**."
      ],
      "metadata": {
        "id": "2TILRjJZ3Vss"
      }
    },
    {
      "cell_type": "code",
      "source": [],
      "metadata": {
        "id": "US0VoQO8rmBv"
      },
      "execution_count": null,
      "outputs": []
    }
  ]
}