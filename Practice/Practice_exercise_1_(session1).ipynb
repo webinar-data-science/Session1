{
  "cells": [
    {
      "cell_type": "markdown",
      "metadata": {
        "id": "2-kAQ-p7i15A"
      },
      "source": [
        "# Practice Exercise: Cleaning data & Transforming columns/features"
      ]
    },
    {
      "cell_type": "markdown",
      "metadata": {
        "id": "LdcRUkC8i15D"
      },
      "source": [
        "## Context:\n",
        "- The data is based on real anonymized Czech bank transactions and account info.\n",
        "- We'll be focusing on practicing the data cleaning, columns transformations, and other techniques that we've learned in the course. \n",
        "- But here is the original task description of the dataset publishers:\n",
        "\n",
        "*The bank wants to improve their services. For instance, the bank managers have only vague idea, who is a good client (whom to offer some additional services)   and who is a bad client (whom to watch carefully to minimize the bank losses). Fortunately, the bank stores data about their clients, the accounts (transactions within several months), the loans already granted, the credit cards issued. The bank managers hope to improve their understanding of customers and seek specific actions to improve services.*\n",
        "\n",
        "- We've made minor changes on the data to fit this exercise, such as changing the column names. Check out the original source if you are interested in using this data for other purposes (https://data.world/lpetrocelli/czech-financial-dataset-real-anonymized-transactions)"
      ]
    },
    {
      "cell_type": "markdown",
      "metadata": {
        "id": "4D52Oy6bi15E"
      },
      "source": [
        "## Dataset Description:\n",
        "\n",
        "We'll work on three datasets (in three separate csv files):\n",
        "\n",
        "  - **account**: each record describes static characteristics of an account\n",
        "  - **transaction**: each record describes one transaction on an account\n",
        "  - **district**: each record describes demographic characteristics of a district\n",
        "  \n",
        "In reality, the organizations like banks often have data stored in multiple datasets. Assume we want to study the transactional level data, we'll need to combine these three datasets together to have transactions data with account and district data."
      ]
    },
    {
      "cell_type": "markdown",
      "metadata": {
        "id": "vH3QeFnxi15F"
      },
      "source": [
        "## Objective: \n",
        "   - Examine/clean the individual dataset\n",
        "   - Combine them into a single dataset, which is subject to more cleaning\n",
        "   - Create new columns based on existing columns\n",
        "\n",
        "By the end, the new dataset is ready for more analysis."
      ]
    },
    {
      "cell_type": "markdown",
      "metadata": {
        "id": "RWXazdeci15G"
      },
      "source": [
        "### 1. Import the libraries"
      ]
    },
    {
      "cell_type": "code",
      "execution_count": null,
      "metadata": {
        "id": "4KPD6olei15H"
      },
      "outputs": [],
      "source": []
    },
    {
      "cell_type": "markdown",
      "metadata": {
        "id": "QOtyfrNqi15I"
      },
      "source": [
        "### 2. Import the data from three csv files as DataFrames `account`, `district`, `trans`\n",
        "Hint: \n",
        "- the `read_csv` function can automatically infer and load zip file, read its documentation of parameter `compression` if you are interested in details\n",
        "- you may ignore the warning when reading the `trans.csv.zip` file. It is optional to follow the warning instructions to remove it."
      ]
    },
    {
      "cell_type": "code",
      "execution_count": null,
      "metadata": {
        "id": "xAsiYZQUi15K"
      },
      "outputs": [],
      "source": []
    },
    {
      "cell_type": "markdown",
      "metadata": {
        "id": "YierUhWHi15L"
      },
      "source": [
        "### 3. Look at the info summary, head of each DataFrame"
      ]
    },
    {
      "cell_type": "code",
      "execution_count": null,
      "metadata": {
        "id": "EIj_oohEi15M"
      },
      "outputs": [],
      "source": []
    },
    {
      "cell_type": "markdown",
      "metadata": {
        "id": "JcX5YIPai15M"
      },
      "source": [
        "### 4. Check for the unique values and their counts in each column for the three DataFrames"
      ]
    },
    {
      "cell_type": "code",
      "execution_count": null,
      "metadata": {
        "id": "ooMcpXjEi15N"
      },
      "outputs": [],
      "source": []
    },
    {
      "cell_type": "markdown",
      "metadata": {
        "id": "5Ud1vJnki15N"
      },
      "source": [
        "### 5. Check for duplicates in the three DataFrames"
      ]
    },
    {
      "cell_type": "code",
      "execution_count": null,
      "metadata": {
        "id": "qrNFFHbzi15O"
      },
      "outputs": [],
      "source": []
    },
    {
      "cell_type": "markdown",
      "metadata": {
        "id": "fW9v6WLti15O"
      },
      "source": [
        "### 6. Convert column `account_open_date` in `account` and column `date` in `trans` into datetime dtypes"
      ]
    },
    {
      "cell_type": "code",
      "execution_count": null,
      "metadata": {
        "id": "8Me9Mk-Ei15P"
      },
      "outputs": [],
      "source": []
    },
    {
      "cell_type": "markdown",
      "metadata": {
        "id": "dMbh6rvAi15P"
      },
      "source": [
        "### 7. Convert the columns `region` and `district_name` in `district` to all uppercase"
      ]
    },
    {
      "cell_type": "code",
      "execution_count": null,
      "metadata": {
        "id": "2NMEmxnZi15P"
      },
      "outputs": [],
      "source": []
    },
    {
      "cell_type": "markdown",
      "metadata": {
        "id": "C9vmhy0yi15Q"
      },
      "source": [
        "### 8. Check for missing data by columns in `account` using the `isna` method"
      ]
    },
    {
      "cell_type": "code",
      "execution_count": null,
      "metadata": {
        "id": "ggTNit3Mi15Q"
      },
      "outputs": [],
      "source": []
    },
    {
      "cell_type": "markdown",
      "metadata": {
        "id": "Npm2LSQmi15Q"
      },
      "source": [
        "### 9. Check for missing data by columns in `district` using the `isna` method"
      ]
    },
    {
      "cell_type": "code",
      "execution_count": null,
      "metadata": {
        "id": "ETbAaa1vi15R"
      },
      "outputs": [],
      "source": []
    },
    {
      "cell_type": "markdown",
      "metadata": {
        "id": "MR-oBiCZi15R"
      },
      "source": [
        "`district` has numeric features that could have relationships with each other. Let's use iterative imputation on them."
      ]
    },
    {
      "cell_type": "markdown",
      "metadata": {
        "id": "qpiAcQQyi15R"
      },
      "source": [
        "#### Use `IterativeImputer` in `sklearn` to impute based on columns `population`, `average_salary`, `unemployment_rate`, `num_committed_crimes`"
      ]
    },
    {
      "cell_type": "markdown",
      "metadata": {
        "id": "m0XDKfbFi15R"
      },
      "source": [
        "##### Import libraries"
      ]
    },
    {
      "cell_type": "code",
      "execution_count": null,
      "metadata": {
        "id": "7eZYZujBi15S"
      },
      "outputs": [],
      "source": []
    },
    {
      "cell_type": "markdown",
      "metadata": {
        "id": "ULq2jq1ui15S"
      },
      "source": [
        "##### Build a list of columns that will be used for imputation, which are `population`, `average_salary`, `unemployment_rate`, `num_committed_crimes`\n",
        "These are the columns that might be related to each other "
      ]
    },
    {
      "cell_type": "code",
      "execution_count": null,
      "metadata": {
        "id": "hw4Rcw5Ni15T"
      },
      "outputs": [],
      "source": []
    },
    {
      "cell_type": "markdown",
      "metadata": {
        "id": "Fzx9kqxoi15T"
      },
      "source": [
        "##### Create `IterativeImputer` object and set its `min_value` and `max_value` parameters to be the minumum and maximum of corresponding columns"
      ]
    },
    {
      "cell_type": "code",
      "execution_count": null,
      "metadata": {
        "id": "si6sBtHYi15T"
      },
      "outputs": [],
      "source": []
    },
    {
      "cell_type": "markdown",
      "metadata": {
        "id": "Xt5G2p-5i15T"
      },
      "source": [
        "##### Apply the imputer to fit and transform the columns to an imputed NumPy array"
      ]
    },
    {
      "cell_type": "code",
      "execution_count": null,
      "metadata": {
        "id": "WfR8sRyHi15U"
      },
      "outputs": [],
      "source": []
    },
    {
      "cell_type": "markdown",
      "metadata": {
        "id": "aF-GpjXVi15U"
      },
      "source": [
        "##### Assign the imputed array back to the original DataFrame's columns"
      ]
    },
    {
      "cell_type": "code",
      "execution_count": null,
      "metadata": {
        "id": "4mZ3N3kji15U"
      },
      "outputs": [],
      "source": []
    },
    {
      "cell_type": "markdown",
      "metadata": {
        "id": "s_JTvrvoi15U"
      },
      "source": [
        "##### Double check that the columns are imputed"
      ]
    },
    {
      "cell_type": "code",
      "execution_count": null,
      "metadata": {
        "id": "7APqY9T9i15U"
      },
      "outputs": [],
      "source": []
    },
    {
      "cell_type": "markdown",
      "metadata": {
        "id": "tssJgnkni15V"
      },
      "source": [
        "### 10. Check for missing data by columns in `trans` using the `isna` method"
      ]
    },
    {
      "cell_type": "code",
      "execution_count": null,
      "metadata": {
        "id": "Nm1qMz-Pi15V"
      },
      "outputs": [],
      "source": []
    },
    {
      "cell_type": "markdown",
      "metadata": {
        "id": "BqUcAQlbi15V"
      },
      "source": [
        "#### Divide the columns into numeric columns and categorical columns, then use the `fillna` method to fill numeric columns with -999, fill categorical columns with 'UNKNOWN'"
      ]
    },
    {
      "cell_type": "code",
      "execution_count": null,
      "metadata": {
        "id": "4PvNFSJ5i15W"
      },
      "outputs": [],
      "source": []
    },
    {
      "cell_type": "markdown",
      "metadata": {
        "id": "XSAYbKlOi15W"
      },
      "source": [
        "### 11. Check for outliers in `district` using the `describe` method, then look at the histograms of the suspicious columns"
      ]
    },
    {
      "cell_type": "code",
      "execution_count": null,
      "metadata": {
        "id": "IZQAkB1zi15W"
      },
      "outputs": [],
      "source": []
    },
    {
      "cell_type": "markdown",
      "metadata": {
        "id": "4bcc-FjMi15W"
      },
      "source": [
        "#### Explore the outliers in the dataset"
      ]
    },
    {
      "cell_type": "code",
      "execution_count": null,
      "metadata": {
        "id": "LXgiL0iyi15W"
      },
      "outputs": [],
      "source": []
    },
    {
      "cell_type": "markdown",
      "metadata": {
        "id": "_2uXPfDui15W"
      },
      "source": [
        "### 12. Check for outliers in `trans` using the `describe` method, then look at the histograms of the suspicious columns"
      ]
    },
    {
      "cell_type": "code",
      "execution_count": null,
      "metadata": {
        "id": "HYyaAnnEi15X"
      },
      "outputs": [],
      "source": []
    },
    {
      "cell_type": "markdown",
      "metadata": {
        "id": "znzLv3gAi15X"
      },
      "source": [
        "#### Explore the outliers in the dataset"
      ]
    },
    {
      "cell_type": "code",
      "execution_count": null,
      "metadata": {
        "id": "SmjZWmszi15X"
      },
      "outputs": [],
      "source": []
    },
    {
      "cell_type": "markdown",
      "metadata": {
        "id": "gVkTJ86Qi15X"
      },
      "source": [
        "The DataFrame `account` doesn't have any columns that could have outliers, so we are not exploring it."
      ]
    },
    {
      "cell_type": "markdown",
      "metadata": {
        "id": "px60wf_Hi15X"
      },
      "source": [
        "### 13. Merge (left join) `account` and `district` into a new DataFrame called `account_district` using their common columns"
      ]
    },
    {
      "cell_type": "code",
      "execution_count": null,
      "metadata": {
        "id": "oWOhteRwi15Y"
      },
      "outputs": [],
      "source": []
    },
    {
      "cell_type": "markdown",
      "metadata": {
        "id": "w9AGEddri15Y"
      },
      "source": [
        "### 14. Check the information summary of `account_district`, any missing data?"
      ]
    },
    {
      "cell_type": "code",
      "execution_count": null,
      "metadata": {
        "id": "iOMYRokli15Y"
      },
      "outputs": [],
      "source": []
    },
    {
      "cell_type": "markdown",
      "metadata": {
        "id": "nvFMdaYUi15Y"
      },
      "source": [
        "#### Look at the rows with missing data in `account_district`"
      ]
    },
    {
      "cell_type": "code",
      "execution_count": null,
      "metadata": {
        "id": "HbNWyAezi15Y"
      },
      "outputs": [],
      "source": []
    },
    {
      "cell_type": "markdown",
      "metadata": {
        "id": "0nGhWlqKi15Z"
      },
      "source": [
        "#### Use `SimpleImputer` from `sklearn` to impute the missing data in columns `population`, `average_salary`, `unemployment_rate`, `num_committed_crimes` with their means"
      ]
    },
    {
      "cell_type": "code",
      "execution_count": null,
      "metadata": {
        "id": "c7uLZE1gi15Z"
      },
      "outputs": [],
      "source": []
    },
    {
      "cell_type": "markdown",
      "metadata": {
        "id": "bl2vr30ji15Z"
      },
      "source": [
        "#### Use `fillna` method to impute the missing data in columns `district_name` and `region` with 'UNKNOWN'"
      ]
    },
    {
      "cell_type": "code",
      "execution_count": null,
      "metadata": {
        "id": "WMjYuKxDi15a"
      },
      "outputs": [],
      "source": []
    },
    {
      "cell_type": "markdown",
      "metadata": {
        "id": "KXvtuRqri15a"
      },
      "source": [
        "### 15. Merge (left join) `trans` and `account_district` into a new DataFrame called `all_data` using their common columns"
      ]
    },
    {
      "cell_type": "code",
      "execution_count": null,
      "metadata": {
        "id": "H392H6vZi15a"
      },
      "outputs": [],
      "source": []
    },
    {
      "cell_type": "markdown",
      "metadata": {
        "id": "ZyysONHMi15b"
      },
      "source": [
        "#### Check the information summary of `all_data`"
      ]
    },
    {
      "cell_type": "code",
      "execution_count": null,
      "metadata": {
        "id": "ITZHqywni15b"
      },
      "outputs": [],
      "source": []
    },
    {
      "cell_type": "markdown",
      "metadata": {
        "id": "oX9V5X0Si15b"
      },
      "source": [
        "### 16. Create a new column `account_open_year` and assign it as the year from column `account_open_date`"
      ]
    },
    {
      "cell_type": "code",
      "execution_count": null,
      "metadata": {
        "id": "qPEKIVYNi15b"
      },
      "outputs": [],
      "source": []
    },
    {
      "cell_type": "markdown",
      "metadata": {
        "id": "A9kbB3lli15c"
      },
      "source": [
        "### 17. Calculate the difference between columns `date` (transaction date) and `account_open_date`"
      ]
    },
    {
      "cell_type": "code",
      "execution_count": null,
      "metadata": {
        "id": "HOATVRb1i15c"
      },
      "outputs": [],
      "source": []
    },
    {
      "cell_type": "markdown",
      "metadata": {
        "id": "hp1wn1-bi15c"
      },
      "source": [
        "### 18. Create a new column `account_age_days` and assign it as the difference in days between columns `date` (transaction date) and `account_open_date`"
      ]
    },
    {
      "cell_type": "code",
      "execution_count": null,
      "metadata": {
        "id": "dwz9dWiZi15d"
      },
      "outputs": [],
      "source": []
    },
    {
      "cell_type": "markdown",
      "metadata": {
        "id": "H-CHDMNJi15d"
      },
      "source": [
        "### 19. Create a new column `amount_category` by cutting the column `amount` into 3 equal-sized bins, and label the bins as 'low_amount', 'medium_amount', 'high_amount'"
      ]
    },
    {
      "cell_type": "code",
      "execution_count": null,
      "metadata": {
        "id": "g3hA4OR8i15d"
      },
      "outputs": [],
      "source": []
    },
    {
      "cell_type": "markdown",
      "metadata": {
        "id": "H_um_zOIi15d"
      },
      "source": [
        "#### Verify the categories and their counts in `amount_category`"
      ]
    },
    {
      "cell_type": "code",
      "execution_count": null,
      "metadata": {
        "id": "PC9wy1gsi15e"
      },
      "outputs": [],
      "source": []
    },
    {
      "cell_type": "markdown",
      "metadata": {
        "id": "rX3uiubai15e"
      },
      "source": [
        "### 20. Create a new column `account_age_days_category` by cutting the column `account_age_days` into 5 equal-width bins"
      ]
    },
    {
      "cell_type": "code",
      "execution_count": null,
      "metadata": {
        "id": "ihde0dkMi15e"
      },
      "outputs": [],
      "source": []
    },
    {
      "cell_type": "markdown",
      "metadata": {
        "id": "icvFWJdmi15f"
      },
      "source": [
        "#### Verify the categories and their counts in `account_age_days_category`"
      ]
    },
    {
      "cell_type": "code",
      "execution_count": null,
      "metadata": {
        "id": "UwDwWKDli15f"
      },
      "outputs": [],
      "source": []
    },
    {
      "cell_type": "markdown",
      "metadata": {
        "id": "DOVbhhsni15f"
      },
      "source": [
        "#### Print out the first 20 rows of `all_data` to look at the newly added columns"
      ]
    },
    {
      "cell_type": "code",
      "execution_count": null,
      "metadata": {
        "id": "aYLCxVLPi15f"
      },
      "outputs": [],
      "source": []
    }
  ],
  "metadata": {
    "kernelspec": {
      "display_name": "Python 3",
      "language": "python",
      "name": "python3"
    },
    "language_info": {
      "codemirror_mode": {
        "name": "ipython",
        "version": 3
      },
      "file_extension": ".py",
      "mimetype": "text/x-python",
      "name": "python",
      "nbconvert_exporter": "python",
      "pygments_lexer": "ipython3",
      "version": "3.7.6"
    },
    "colab": {
      "provenance": []
    }
  },
  "nbformat": 4,
  "nbformat_minor": 0
}
