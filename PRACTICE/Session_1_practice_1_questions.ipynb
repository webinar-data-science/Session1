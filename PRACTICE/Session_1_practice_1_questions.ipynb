{
  "nbformat": 4,
  "nbformat_minor": 0,
  "metadata": {
    "colab": {
      "provenance": []
    },
    "kernelspec": {
      "name": "python3",
      "display_name": "Python 3"
    },
    "language_info": {
      "name": "python"
    }
  },
  "cells": [
    {
      "cell_type": "markdown",
      "source": [
        "# Practice 1\n",
        "In this section you will see how to use **numpy** and **pandas** libraries in order to make an easy exploratory analysis: summary statistics, variable manipulation and detection of outliers. In addition, you will also learn how to make a join between two datasets. You can find the guide of libraries in the following links:\n",
        "\n",
        "\n",
        "*   **numpy**: [link text](https://numpy.org/)\n",
        "*   **pandas**: [link text](https://pandas.pydata.org/)\n",
        "\n"
      ],
      "metadata": {
        "id": "Q11yim8Z2qNy"
      }
    },
    {
      "cell_type": "markdown",
      "source": [
        "\n",
        "\n",
        "1.   Import libraries **Numpy** and **Pandas**.\n",
        "\n"
      ],
      "metadata": {
        "id": "cp0iQ2nswEZU"
      }
    },
    {
      "cell_type": "code",
      "source": [],
      "metadata": {
        "id": "eSOJ4JGgqLZF"
      },
      "execution_count": null,
      "outputs": []
    },
    {
      "cell_type": "markdown",
      "source": [
        "\n",
        "\n",
        "2.   Import the dataset using **read_csv**.\n",
        "\n",
        "\n"
      ],
      "metadata": {
        "id": "PYOWMn31wQvX"
      }
    },
    {
      "cell_type": "code",
      "source": [],
      "metadata": {
        "id": "maX9wVeAqMAX"
      },
      "execution_count": null,
      "outputs": []
    },
    {
      "cell_type": "markdown",
      "source": [
        "\n",
        "\n",
        "3.   Check the number of rows and columns using **.shape**\n",
        "\n"
      ],
      "metadata": {
        "id": "g1OCPohJwZL5"
      }
    },
    {
      "cell_type": "code",
      "source": [],
      "metadata": {
        "id": "1tqwjS2bqMeV"
      },
      "execution_count": null,
      "outputs": []
    },
    {
      "cell_type": "markdown",
      "source": [
        "\n",
        "\n",
        "4.   Show the first five rows for both datasets.\n",
        "\n"
      ],
      "metadata": {
        "id": "hUv-SvIowZzi"
      }
    },
    {
      "cell_type": "code",
      "source": [],
      "metadata": {
        "id": "_FChcPqfqM-q"
      },
      "execution_count": null,
      "outputs": []
    },
    {
      "cell_type": "markdown",
      "source": [
        "\n",
        "\n",
        "5.   Retrieve the name of the columns for \"hotel_1\" and \"hotel_2\".\n",
        "\n"
      ],
      "metadata": {
        "id": "KjC2ypk5wqYw"
      }
    },
    {
      "cell_type": "code",
      "source": [],
      "metadata": {
        "id": "EcCz75JiqNYv"
      },
      "execution_count": null,
      "outputs": []
    },
    {
      "cell_type": "markdown",
      "source": [
        "\n",
        "\n",
        "6.   Check the data types of all the columns for \"hotel_1\" and \"hotel_2\".\n",
        "\n"
      ],
      "metadata": {
        "id": "8gEajYYRwrA3"
      }
    },
    {
      "cell_type": "code",
      "source": [],
      "metadata": {
        "id": "GQrNcrjyqN1-"
      },
      "execution_count": null,
      "outputs": []
    },
    {
      "cell_type": "markdown",
      "source": [
        "\n",
        "\n",
        "7.   Check the number of missing values in both datasets, using **isna()** and **sum()** together.\n",
        "\n"
      ],
      "metadata": {
        "id": "Cl8xwMNawrhJ"
      }
    },
    {
      "cell_type": "code",
      "source": [],
      "metadata": {
        "id": "uql5BcG4qOWR"
      },
      "execution_count": null,
      "outputs": []
    },
    {
      "cell_type": "markdown",
      "source": [
        "\n",
        "\n",
        "8.   Check the unique values and their counts for the column *arrival_date_month* of the dataset \"hotel_1\".\n",
        "\n"
      ],
      "metadata": {
        "id": "T38tJ8_DxS7J"
      }
    },
    {
      "cell_type": "code",
      "source": [],
      "metadata": {
        "id": "vIrYa0_mqO1R"
      },
      "execution_count": null,
      "outputs": []
    },
    {
      "cell_type": "markdown",
      "source": [
        "\n",
        "\n",
        "9.   Convert the data type of the column *reservation_status_date* inside \"hotel_2\" in *date.time*, using the function **to_datetime** of the **pandas** library. \n",
        "\n"
      ],
      "metadata": {
        "id": "BIhyX3JWxeLL"
      }
    },
    {
      "cell_type": "code",
      "source": [],
      "metadata": {
        "id": "-396EwWqqPbE"
      },
      "execution_count": null,
      "outputs": []
    },
    {
      "cell_type": "markdown",
      "source": [
        "\n",
        "\n",
        "10.   Drop the column *company* inside dataset \"hotel_2\" and check if the shape of the same dataset has changed effectively.\n",
        "\n"
      ],
      "metadata": {
        "id": "BYpSp_GBxe0C"
      }
    },
    {
      "cell_type": "code",
      "source": [],
      "metadata": {
        "id": "klg1EbmsqP8o"
      },
      "execution_count": null,
      "outputs": []
    },
    {
      "cell_type": "markdown",
      "source": [
        "\n",
        "\n",
        "11.   Check again what columns have got missing data in both datasets.\n",
        "\n"
      ],
      "metadata": {
        "id": "CuBdfHbFxfU8"
      }
    },
    {
      "cell_type": "code",
      "source": [],
      "metadata": {
        "id": "zVjsGvoKqQqJ"
      },
      "execution_count": null,
      "outputs": []
    },
    {
      "cell_type": "markdown",
      "source": [
        "\n",
        "\n",
        "Optional: retrieve the index of the maximum value for columns *country* and *agent* using **argmax** from **numpy**. Follow these steps:\n",
        "\n",
        "  *   Return just the arrays of counts, using **unique** from **numpy** (da mostrare solo questo).\n",
        "  *   Return the indexes of the maximum value inside the arrays of counts.\n",
        "  *   Assign the indexes found in the step before to variables.\n",
        "\n",
        "\n",
        "\n"
      ],
      "metadata": {
        "id": "uoVgUfaJxgnI"
      }
    },
    {
      "cell_type": "markdown",
      "source": [
        "\n",
        "  *   Return just the arrays of counts, using **unique** from **numpy**.\n",
        "\n"
      ],
      "metadata": {
        "id": "j8T6vuvkddS6"
      }
    },
    {
      "cell_type": "code",
      "source": [],
      "metadata": {
        "id": "BVqVryQfqRiT"
      },
      "execution_count": null,
      "outputs": []
    },
    {
      "cell_type": "markdown",
      "source": [
        "\n",
        "  *   Return the indexes of the maximum value inside the arrays of counts, using **argmax** from **numpy**.\n",
        "\n"
      ],
      "metadata": {
        "id": "ZmaK2JRfdtcs"
      }
    },
    {
      "cell_type": "code",
      "source": [],
      "metadata": {
        "id": "jJjD9VHqqSK4"
      },
      "execution_count": null,
      "outputs": []
    },
    {
      "cell_type": "markdown",
      "source": [
        "\n",
        "*   Assign the indexes found in the step before to variables.\n",
        "\n",
        "\n"
      ],
      "metadata": {
        "id": "emdQUWA6eUYn"
      }
    },
    {
      "cell_type": "code",
      "source": [],
      "metadata": {
        "id": "9YdjLqM1qSlH"
      },
      "execution_count": null,
      "outputs": []
    },
    {
      "cell_type": "markdown",
      "source": [
        "\n",
        "\n",
        "**Optional**: retrieve the most frequent value using the indexes found before.\n",
        "\n"
      ],
      "metadata": {
        "id": "j3pHas8exhTb"
      }
    },
    {
      "cell_type": "code",
      "source": [],
      "metadata": {
        "id": "QMsx8ipUqlP9"
      },
      "execution_count": null,
      "outputs": []
    },
    {
      "cell_type": "markdown",
      "source": [
        "\n",
        "\n",
        "14.   Replace the missing values with the most common value for the columns *country*, *children* inside the dataset \"hotel_1\" and for the column *agent* inside the dataset \"hotel_2\". Use the function **SimpleImputer** from **sklearn**.\n",
        "\n"
      ],
      "metadata": {
        "id": "uS38tjSkxh4q"
      }
    },
    {
      "cell_type": "code",
      "source": [],
      "metadata": {
        "id": "1Amf9wYzqlqC"
      },
      "execution_count": null,
      "outputs": []
    },
    {
      "cell_type": "markdown",
      "source": [
        "\n",
        "\n",
        "15.   Check if the imputer has worked properly: count again the number of missing values for each columns inside the two datasets.\n"
      ],
      "metadata": {
        "id": "1jslXz3oxio9"
      }
    },
    {
      "cell_type": "code",
      "source": [],
      "metadata": {
        "id": "w4osulizqmIs"
      },
      "execution_count": null,
      "outputs": []
    },
    {
      "cell_type": "markdown",
      "source": [
        "\n",
        "\n",
        "**Optional**: check if the most common value for the columns *agent*, *children* (inside dataset \"hotel_1\") and for the column *country* (inside dataset \"hotel_2\"), has increased.\n",
        "\n"
      ],
      "metadata": {
        "id": "M6nGBhcdxjJk"
      }
    },
    {
      "cell_type": "code",
      "source": [],
      "metadata": {
        "id": "FpNbXdtWqmui"
      },
      "execution_count": null,
      "outputs": []
    },
    {
      "cell_type": "markdown",
      "source": [
        "\n",
        "\n",
        "17.   Compute summary satistics of the numerical columns for dataset \"hotel_1\" and \"hotel_2\" using **describe()** method.\n",
        "\n"
      ],
      "metadata": {
        "id": "eFY7vcsMxlZa"
      }
    },
    {
      "cell_type": "code",
      "source": [],
      "metadata": {
        "id": "YvOaxDGsqnHn"
      },
      "execution_count": null,
      "outputs": []
    },
    {
      "cell_type": "markdown",
      "source": [
        "\n",
        "\n",
        "18.   Compute summary statistics for the numerical columns grouped by the values of the column *is_repeated_guest*, using **describe()**. In order to group the observations, use **groupby** function from **pandas**.\n",
        "\n"
      ],
      "metadata": {
        "id": "fb-k99zsxl9_"
      }
    },
    {
      "cell_type": "code",
      "source": [],
      "metadata": {
        "id": "muQ4UXKjqnlH"
      },
      "execution_count": null,
      "outputs": []
    },
    {
      "cell_type": "markdown",
      "source": [
        "\n",
        "\n",
        "19.   Check if there are outliers, with respect to the column *lead_time*, using **describe()** method.\n",
        "\n"
      ],
      "metadata": {
        "id": "DC4bb44vxmZV"
      }
    },
    {
      "cell_type": "code",
      "source": [],
      "metadata": {
        "id": "MGkZiXWvqn8V"
      },
      "execution_count": null,
      "outputs": []
    },
    {
      "cell_type": "markdown",
      "source": [
        "\n",
        "\n",
        "20.   Check if there are outliers, with respect to the column *lead_time*, using **boxplot** and **hist** from **pandas**.\n",
        "\n"
      ],
      "metadata": {
        "id": "UvFLFpgXxm62"
      }
    },
    {
      "cell_type": "code",
      "source": [],
      "metadata": {
        "id": "HWw72diXqoVb"
      },
      "execution_count": null,
      "outputs": []
    },
    {
      "cell_type": "markdown",
      "source": [
        "\n",
        "\n",
        "21.   Merge the two datasets creating a new dataset called \"hotel_complete\" (merge them using a left join). Use the function **merge** from **pandas**.\n",
        "\n"
      ],
      "metadata": {
        "id": "L6KM99iRxnjD"
      }
    },
    {
      "cell_type": "code",
      "source": [],
      "metadata": {
        "id": "fMU1GFXFqowg"
      },
      "execution_count": null,
      "outputs": []
    },
    {
      "cell_type": "markdown",
      "source": [
        "\n",
        "\n",
        "22.   Check the shape of the new dataset \"hotel_complete\".\n",
        "\n"
      ],
      "metadata": {
        "id": "FdL1IWFLxn9L"
      }
    },
    {
      "cell_type": "code",
      "source": [],
      "metadata": {
        "id": "fFDUzeWwqpMY"
      },
      "execution_count": null,
      "outputs": []
    },
    {
      "cell_type": "markdown",
      "source": [
        "\n",
        "\n",
        "23.   Creat a new variable *amount lead time* assigning the value \"low\" for *lead time* <= 150, \"medium\" when 150 < *lead time* <= 300, \"high\" when *lead time* > 300. Use the function **loc** with conditions from **pandas**.\n",
        "\n"
      ],
      "metadata": {
        "id": "1cvcArG_xoZD"
      }
    },
    {
      "cell_type": "code",
      "source": [],
      "metadata": {
        "id": "AvVZ0I5eqpvD"
      },
      "execution_count": null,
      "outputs": []
    },
    {
      "cell_type": "markdown",
      "source": [
        "\n",
        "\n",
        "24.   Drop columns *lead time* and *ID*.\n",
        "\n"
      ],
      "metadata": {
        "id": "ijw5Rmu1xpAV"
      }
    },
    {
      "cell_type": "code",
      "source": [],
      "metadata": {
        "id": "c2HTNhMXqqQl"
      },
      "execution_count": null,
      "outputs": []
    }
  ]
}
