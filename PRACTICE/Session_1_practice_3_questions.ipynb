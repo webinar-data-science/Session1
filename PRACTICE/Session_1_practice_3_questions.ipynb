{
  "nbformat": 4,
  "nbformat_minor": 0,
  "metadata": {
    "colab": {
      "provenance": []
    },
    "kernelspec": {
      "name": "python3",
      "display_name": "Python 3"
    },
    "language_info": {
      "name": "python"
    }
  },
  "cells": [
    {
      "cell_type": "markdown",
      "source": [
        "# Practice 3.\n",
        "In this section you will see how to standardize and normalize data, then there will be a very short and easy introduction to an unsupervised learning analysis."
      ],
      "metadata": {
        "id": "sRpMXSmqRG-l"
      }
    },
    {
      "cell_type": "markdown",
      "source": [
        "\n",
        "\n",
        "1.   Import the following libraries.\n",
        "\n"
      ],
      "metadata": {
        "id": "utKR19O-UOao"
      }
    },
    {
      "cell_type": "code",
      "source": [
        "import pandas as pd\n",
        "import numpy as np\n",
        "from sklearn import preprocessing\n",
        "import matplotlib.pyplot as plt\n",
        "from sklearn.cluster import KMeans\n",
        "import seaborn as sns"
      ],
      "metadata": {
        "id": "9QNB-t50sU4G"
      },
      "execution_count": null,
      "outputs": []
    },
    {
      "cell_type": "markdown",
      "source": [
        "\n",
        "\n",
        "2.   import the \"Iris.csv\" dataset.\n",
        "\n"
      ],
      "metadata": {
        "id": "T3vZOZ7KUPEy"
      }
    },
    {
      "cell_type": "code",
      "source": [],
      "metadata": {
        "id": "bsZV05v3skKi"
      },
      "execution_count": null,
      "outputs": []
    },
    {
      "cell_type": "markdown",
      "source": [
        "\n",
        "\n",
        "3.   Show the first 5 rows of the \"Iris.csv\".\n",
        "\n"
      ],
      "metadata": {
        "id": "cvcbGYghUPhq"
      }
    },
    {
      "cell_type": "code",
      "source": [],
      "metadata": {
        "id": "RAujnCgQskjT"
      },
      "execution_count": null,
      "outputs": []
    },
    {
      "cell_type": "markdown",
      "source": [
        "\n",
        "\n",
        "4.   Check if there are missing values.\n",
        "\n"
      ],
      "metadata": {
        "id": "WXo0LT0SUPlD"
      }
    },
    {
      "cell_type": "code",
      "source": [],
      "metadata": {
        "id": "oOtcoUEsslMb"
      },
      "execution_count": null,
      "outputs": []
    },
    {
      "cell_type": "markdown",
      "source": [
        "\n",
        "\n",
        "5.   Create a matrix with only the numerical variables.\n",
        "\n"
      ],
      "metadata": {
        "id": "hNe2o3cCUQFD"
      }
    },
    {
      "cell_type": "code",
      "source": [],
      "metadata": {
        "id": "ENA5tLPhslmv"
      },
      "execution_count": null,
      "outputs": []
    },
    {
      "cell_type": "markdown",
      "source": [
        "\n",
        "\n",
        "6.   Standardize (or scale) the matrix of values using the function **StandardScaler** from **sklearn**.\n",
        "\n"
      ],
      "metadata": {
        "id": "ie1k_CI9UQIc"
      }
    },
    {
      "cell_type": "code",
      "source": [],
      "metadata": {
        "id": "FIuwPyDesl8N"
      },
      "execution_count": null,
      "outputs": []
    },
    {
      "cell_type": "markdown",
      "source": [
        "\n",
        "\n",
        "7.   Check if the mean is zero and the variance (or standard deviation) is equal to one, for all the four columns.\n",
        "\n"
      ],
      "metadata": {
        "id": "9GucAIeJXejX"
      }
    },
    {
      "cell_type": "code",
      "source": [],
      "metadata": {
        "id": "6piREb8ismUh"
      },
      "execution_count": null,
      "outputs": []
    },
    {
      "cell_type": "markdown",
      "source": [
        "\n",
        "\n",
        "8.   Normalize the data inside the matrix of values using the function **MinMaxScaler** from **sklearn** and check if the maximum and minimum values are equal to one and zero, check this for all the columns.\n",
        "\n"
      ],
      "metadata": {
        "id": "Rd8LMPiUXed4"
      }
    },
    {
      "cell_type": "code",
      "source": [],
      "metadata": {
        "id": "ECdGVcgtsm4b"
      },
      "execution_count": null,
      "outputs": []
    },
    {
      "cell_type": "markdown",
      "source": [
        "# A short introduction to unsupervised learning. \n",
        "In this last part you will see how to implement in a very easy way (you will go deeper on these topics in session 2), and on a very easy problem, an unsupervised  learning analysis. It will be implemented the k-means algorithm, you can find the details of this algorithm on this link: [link text](https://en.wikipedia.org/wiki/K-means_clustering)"
      ],
      "metadata": {
        "id": "waqzCw3cEB4h"
      }
    },
    {
      "cell_type": "code",
      "source": [],
      "metadata": {
        "id": "lX1A5YqIsnSA"
      },
      "execution_count": null,
      "outputs": []
    },
    {
      "cell_type": "markdown",
      "source": [
        "Unsupervised learning:"
      ],
      "metadata": {
        "id": "_Dt_maQlF5Ph"
      }
    },
    {
      "cell_type": "markdown",
      "source": [
        "9. Copy and paste this command ***k_means=KMeans(n_clusters=)***, choose the number of clusters you want (hint: try with 3 clusters) in order to set the k-means algorithm. Once you have made it, copy and paste this other command ***k_means.fit(data_copy_scaled[:,0:3])*** in order to implement the algorithm considering only the first two columns (just for a metter of result's visualization: you cannot build a plot with four dimensions). Consider the dataset with standardized columns, because this algorithm performs better in this way generally."
      ],
      "metadata": {
        "id": "3ef_Tngowfkh"
      }
    },
    {
      "cell_type": "code",
      "source": [],
      "metadata": {
        "id": "DmsqBtexsnz1"
      },
      "execution_count": null,
      "outputs": []
    },
    {
      "cell_type": "markdown",
      "source": [
        "\n",
        "\n",
        "10.   Copy and paste this command ***clusters=k_means.predict(data_copy_scaled[:,0:3])*** in order to assign the clusters to the observations.\n",
        "\n"
      ],
      "metadata": {
        "id": "ERp8LjeACLU6"
      }
    },
    {
      "cell_type": "code",
      "source": [],
      "metadata": {
        "id": "QsJuTzX7soNc"
      },
      "execution_count": null,
      "outputs": []
    },
    {
      "cell_type": "markdown",
      "source": [
        "\n",
        "\n",
        "11.   Plot the result of the clustering method. Hint: use **scatterplot** from **seaborn**.\n",
        "\n"
      ],
      "metadata": {
        "id": "q9IZhM8oC9YM"
      }
    },
    {
      "cell_type": "code",
      "source": [],
      "metadata": {
        "id": "UjBzs36ysojF"
      },
      "execution_count": null,
      "outputs": []
    }
  ]
}
