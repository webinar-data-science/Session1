{
  "nbformat": 4,
  "nbformat_minor": 0,
  "metadata": {
    "colab": {
      "provenance": []
    },
    "kernelspec": {
      "name": "python3",
      "display_name": "Python 3"
    },
    "language_info": {
      "name": "python"
    }
  },
  "cells": [
    {
      "cell_type": "markdown",
      "source": [
        "# Practice 0.\n",
        "In this section you will see how to use the library **pandas** in order to compute and see basic statistics."
      ],
      "metadata": {
        "id": "SVPA0QaDly5Y"
      }
    },
    {
      "cell_type": "markdown",
      "source": [
        "\n",
        "\n",
        "1.   Import **pandas** library.\n",
        "\n"
      ],
      "metadata": {
        "id": "WHA_El95p97x"
      }
    },
    {
      "cell_type": "code",
      "source": [],
      "metadata": {
        "id": "etXpo20Gpep_"
      },
      "execution_count": null,
      "outputs": []
    },
    {
      "cell_type": "markdown",
      "source": [
        "\n",
        "\n",
        "2.   Import dataset \"ExamScore\" using **read_csv** from **pandas**.\n",
        "\n"
      ],
      "metadata": {
        "id": "MQOi5amrp-q3"
      }
    },
    {
      "cell_type": "code",
      "source": [],
      "metadata": {
        "id": "ARz8aQ1ApfAB"
      },
      "execution_count": null,
      "outputs": []
    },
    {
      "cell_type": "markdown",
      "source": [
        "3. Show the shape of the dataset using **shape** from **pandas**."
      ],
      "metadata": {
        "id": "aHcDJIftu94F"
      }
    },
    {
      "cell_type": "code",
      "source": [],
      "metadata": {
        "id": "l4D0DqBcpfZo"
      },
      "execution_count": null,
      "outputs": []
    },
    {
      "cell_type": "markdown",
      "source": [
        "\n",
        "\n",
        "4.   Show the first five rows of the dataset.\n",
        "\n"
      ],
      "metadata": {
        "id": "zkaddUFLwZdT"
      }
    },
    {
      "cell_type": "code",
      "source": [],
      "metadata": {
        "id": "ZvDVXEuBpgCo"
      },
      "execution_count": null,
      "outputs": []
    },
    {
      "cell_type": "markdown",
      "source": [
        "\n",
        "\n",
        "5.   Get information from the dataset using **info()**."
      ],
      "metadata": {
        "id": "JcoyHNhjp_Km"
      }
    },
    {
      "cell_type": "code",
      "source": [],
      "metadata": {
        "id": "MRU7PPo6pgsa"
      },
      "execution_count": null,
      "outputs": []
    },
    {
      "cell_type": "markdown",
      "source": [
        "6. Check if there are some missing values using **isna()**."
      ],
      "metadata": {
        "id": "7FDF2K_hDqqV"
      }
    },
    {
      "cell_type": "code",
      "source": [],
      "metadata": {
        "id": "gum41PT5phBW"
      },
      "execution_count": null,
      "outputs": []
    },
    {
      "cell_type": "markdown",
      "source": [
        "7. Retrieve the name of the columns."
      ],
      "metadata": {
        "id": "jd9pAHutqA4J"
      }
    },
    {
      "cell_type": "code",
      "source": [],
      "metadata": {
        "id": "_vsaVqxCphgY"
      },
      "execution_count": null,
      "outputs": []
    },
    {
      "cell_type": "markdown",
      "source": [
        "8. Show the values inside the column *math score*."
      ],
      "metadata": {
        "id": "noBqngIwxQHb"
      }
    },
    {
      "cell_type": "code",
      "source": [],
      "metadata": {
        "id": "1h2gFubkph7b"
      },
      "execution_count": null,
      "outputs": []
    },
    {
      "cell_type": "markdown",
      "source": [
        "9. Compute the mean and standard deviation for the column *math score*. Use **pandas** libraries."
      ],
      "metadata": {
        "id": "P8y7T379xQ7F"
      }
    },
    {
      "cell_type": "code",
      "source": [],
      "metadata": {
        "id": "j3cV0JhjpiQ8"
      },
      "execution_count": null,
      "outputs": []
    },
    {
      "cell_type": "markdown",
      "source": [
        "10. Compute the min and max values for column *math score*."
      ],
      "metadata": {
        "id": "_9F_mBISGhnj"
      }
    },
    {
      "cell_type": "code",
      "source": [],
      "metadata": {
        "id": "sG5T2mZKpimt"
      },
      "execution_count": null,
      "outputs": []
    },
    {
      "cell_type": "markdown",
      "source": [
        "11. Show only the columns with numerical values."
      ],
      "metadata": {
        "id": "kRLWORDUHNVk"
      }
    },
    {
      "cell_type": "code",
      "source": [],
      "metadata": {
        "id": "1vsn-svipjCr"
      },
      "execution_count": null,
      "outputs": []
    },
    {
      "cell_type": "markdown",
      "source": [
        "12. Show the values and the counts for the column *parental level of education*. Use **value_counts()** from **pandas**."
      ],
      "metadata": {
        "id": "lmWXM-oTHOQ5"
      }
    },
    {
      "cell_type": "code",
      "source": [],
      "metadata": {
        "id": "CIn4N6YZpjer"
      },
      "execution_count": null,
      "outputs": []
    },
    {
      "cell_type": "markdown",
      "source": [
        "13. Compute the most frequent value inside the column *parental level of education*. Use **mode()** from **pandas**."
      ],
      "metadata": {
        "id": "DFRNYDvJMjev"
      }
    },
    {
      "cell_type": "code",
      "source": [],
      "metadata": {
        "id": "75gLOmNgpj9-"
      },
      "execution_count": null,
      "outputs": []
    },
    {
      "cell_type": "markdown",
      "source": [
        "14. Compute the mean along the rows considering only the numerical columns. "
      ],
      "metadata": {
        "id": "eTHuNo8XMksA"
      }
    },
    {
      "cell_type": "code",
      "source": [],
      "metadata": {
        "id": "PIK26lrNpkZY"
      },
      "execution_count": null,
      "outputs": []
    },
    {
      "cell_type": "markdown",
      "source": [
        "15. Use the method **describe()** from **pandas** in order to get a short description of the column *writing score*."
      ],
      "metadata": {
        "id": "2gU3sy97RyEF"
      }
    },
    {
      "cell_type": "code",
      "source": [],
      "metadata": {
        "id": "AUKwcZvnpkzN"
      },
      "execution_count": null,
      "outputs": []
    },
    {
      "cell_type": "markdown",
      "source": [
        "16. Take the mean of the numerical variables grouping the observation according to the column *test preparation course*. Hint: use the function **groupby** from **pandas**."
      ],
      "metadata": {
        "id": "ZcJ8jkQuPgI7"
      }
    },
    {
      "cell_type": "code",
      "source": [],
      "metadata": {
        "id": "o9sT3QjUplbb"
      },
      "execution_count": null,
      "outputs": []
    },
    {
      "cell_type": "markdown",
      "source": [
        "17. Create pivot table for the mean and standard deviation of *math score* with indexes *test preparation course* and *parental level of education*. Use the function **pivot_table** from **pandas**."
      ],
      "metadata": {
        "id": "W5ocfZn3bfyo"
      }
    },
    {
      "cell_type": "code",
      "source": [],
      "metadata": {
        "id": "1i_iraB6pl3G"
      },
      "execution_count": null,
      "outputs": []
    },
    {
      "cell_type": "markdown",
      "source": [
        "18. Plot the histogram of the numerical variables. Use the function **hist** from **pandas**."
      ],
      "metadata": {
        "id": "yFNvY1jMN7ON"
      }
    },
    {
      "cell_type": "code",
      "source": [],
      "metadata": {
        "id": "3skmZXSRpmLK"
      },
      "execution_count": null,
      "outputs": []
    }
  ]
}
